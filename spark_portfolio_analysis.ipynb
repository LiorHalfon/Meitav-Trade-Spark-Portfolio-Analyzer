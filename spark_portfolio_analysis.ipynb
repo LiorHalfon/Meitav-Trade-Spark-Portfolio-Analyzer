{
 "cells": [
  {
   "cell_type": "code",
   "outputs": [],
   "source": [
    "%%capture\n",
    "%pip install itables\n",
    "%pip install openpyxl;\n",
    "%pip install plotly;"
   ],
   "metadata": {
    "collapsed": false
   },
   "id": "55d14868a3315637",
   "execution_count": null
  },
  {
   "cell_type": "code",
   "outputs": [],
   "source": [
    "import pandas as pd\n",
    "import plotly.express as px\n",
    "import plotly.offline as pyo\n",
    "import yaml\n",
    "from IPython.display import Markdown as md\n",
    "import mercury as mr\n",
    "from itables import show, JavascriptCode\n",
    "\n",
    "pyo.init_notebook_mode()\n",
    "\n",
    "# set all plotly background color to white:\n",
    "import plotly.io as pio\n",
    "pio.templates.default = \"plotly_white\""
   ],
   "metadata": {
    "collapsed": false
   },
   "id": "239db1537421c0cd",
   "execution_count": null
  },
  {
   "cell_type": "code",
   "outputs": [],
   "source": [
    "file = mr.File(label=\".xlsx file from Meitav Trade\")\n",
    "if file.filepath is not None:\n",
    "    # verify the file name ends with .xlsx:\n",
    "    if not file.filename.endswith('.xlsx'):\n",
    "        raise ValueError('The file must be an .xlsx file')\n",
    "    df = pd.read_excel(f'{file.filepath}')\n",
    "else:\n",
    "    df = pd.read_excel('demo_data.xlsx') # Change the file name to the name of the file you want to use by default"
   ],
   "metadata": {
    "collapsed": false
   },
   "id": "a764d82907ef8d74",
   "execution_count": null
  },
  {
   "cell_type": "code",
   "outputs": [],
   "source": [
    "# Filter only the required columns:\n",
    "df = df[['שם נייר', 'מספר נייר', 'שווי נוכחי']] # (instrument_name, instrument_id, current_value in ILS ₪)\n",
    "\n",
    "# Translate all the required columns to english:\n",
    "df.columns = ['instrument_name', 'instrument_id', 'current_value']"
   ],
   "metadata": {
    "collapsed": false
   },
   "id": "bd2c2d63975298d0",
   "execution_count": null
  },
  {
   "cell_type": "code",
   "outputs": [],
   "source": [
    "with open('instrument_details.yaml') as file:\n",
    "    instrument_details = yaml.load(file, Loader=yaml.FullLoader)\n",
    "    \n",
    "# Add to the DF details about the instruments from instrument_details, if the instrument_name is not in the yaml file, add \"unknown\" to the details:\n",
    "df['geo'] = df['instrument_name'].apply(lambda x: instrument_details['instruments'].get(x, {}).get('geo', 'unknown'))\n",
    "df['type'] = df['instrument_name'].apply(lambda x: instrument_details['instruments'].get(x, {}).get('type', 'unknown'))\n",
    "df['sub_type'] = df['instrument_name'].apply(lambda x: instrument_details['instruments'].get(x, {}).get('sub_type', 'unknown'))\n",
    "df['asset_class'] = df['instrument_name'].apply(lambda x: instrument_details['instruments'].get(x, {}).get('asset_class', 'unknown'))"
   ],
   "metadata": {
    "collapsed": false
   },
   "id": "6468d45599c8439c",
   "execution_count": null
  },
  {
   "cell_type": "markdown",
   "source": [],
   "metadata": {
    "collapsed": false
   },
   "id": "3cbcf85bf1f0365c"
  },
  {
   "cell_type": "code",
   "outputs": [],
   "source": [
    "md(f\"# Total account value: {df['current_value'].sum():,.0f} ₪\")"
   ],
   "metadata": {
    "collapsed": false
   },
   "id": "f3b392a7e9e2aa70",
   "execution_count": null
  },
  {
   "cell_type": "code",
   "outputs": [],
   "source": [
    "# plot with a pie chart the current_value distribution of the instruments by type using plotly:\n",
    "fig = px.pie(df, names='type', values='current_value', title='Current Value Distribution by Type')\n",
    "fig.show()"
   ],
   "metadata": {
    "collapsed": false
   },
   "id": "b7c384d2b4808688",
   "execution_count": null
  },
  {
   "cell_type": "code",
   "outputs": [],
   "source": [
    "fig = px.pie(df, names='sub_type', values='current_value', title='Current Value Distribution by Sub Type')\n",
    "fig.show()"
   ],
   "metadata": {
    "collapsed": false
   },
   "id": "502791a1571c6a9a",
   "execution_count": null
  },
  {
   "cell_type": "code",
   "outputs": [],
   "source": [
    "fig = px.pie(df, names='geo', values='current_value', title='Current Value Distribution by Geography')\n",
    "fig.show()"
   ],
   "metadata": {
    "collapsed": false
   },
   "id": "b92b9421d9b70d7f",
   "execution_count": null
  },
  {
   "cell_type": "code",
   "outputs": [],
   "source": [
    "fig = px.pie(df, names='asset_class', values='current_value', title='Current Value Distribution by Asset Class')\n",
    "fig.show()"
   ],
   "metadata": {
    "collapsed": false
   },
   "id": "ab6adab78cea08d8",
   "execution_count": null
  },
  {
   "cell_type": "markdown",
   "source": [
    "# Account Holdings:"
   ],
   "metadata": {
    "collapsed": false
   },
   "id": "2d0a03930b9d2c6f"
  },
  {
   "cell_type": "code",
   "outputs": [],
   "source": [
    "# Create printable_df where the current_value is formatted to be in ₪ with 0 decimal points and with thousands separator:\n",
    "printable_df = df.copy()\n",
    "# Set the instrument_id as the last column:\n",
    "printable_df = printable_df[\n",
    "    ['instrument_name', 'current_value', 'geo', 'type', 'sub_type', 'asset_class', 'instrument_id']]\n",
    "\n",
    "# print all rows in printable_df using itables:\n",
    "show(printable_df, style='display nowrap', allign='left', width='100%', paging=False,\n",
    "     columnDefs=[{\"className\": \"dt-left\", \"targets\": \"_all\"},\n",
    "                 {\"width\": \"25%\", \"targets\": [0]},\n",
    "                 {\"render\": JavascriptCode(\"$.fn.dataTable.render.number(',', '.', 0, '₪')\"), \"targets\": [1]}\n",
    "                 ]\n",
    "     )"
   ],
   "metadata": {
    "collapsed": false
   },
   "id": "40745222f68557b9",
   "execution_count": null
  }
 ],
 "metadata": {
  "kernelspec": {
   "display_name": "Python 3",
   "language": "python",
   "name": "python3"
  },
  "language_info": {
   "codemirror_mode": {
    "name": "ipython",
    "version": 2
   },
   "file_extension": ".py",
   "mimetype": "text/x-python",
   "name": "python",
   "nbconvert_exporter": "python",
   "pygments_lexer": "ipython2",
   "version": "2.7.6"
  }
 },
 "nbformat": 4,
 "nbformat_minor": 5
}
